{
  "nbformat": 4,
  "nbformat_minor": 0,
  "metadata": {
    "colab": {
      "name": "Benjamin Cohen - Case study: Operations Intern.ipynb",
      "provenance": [],
      "collapsed_sections": [],
      "authorship_tag": "ABX9TyMoeh0WFy8adFQnpzoQNSFs",
      "include_colab_link": true
    },
    "kernelspec": {
      "name": "python3",
      "display_name": "Python 3"
    },
    "language_info": {
      "name": "python"
    }
  },
  "cells": [
    {
      "cell_type": "markdown",
      "metadata": {
        "id": "view-in-github",
        "colab_type": "text"
      },
      "source": [
        "<a href=\"https://colab.research.google.com/github/BenJ-cell/Case_study_Operations_Intern/blob/main/Benjamin_Cohen_Case_study_Operations_Intern.ipynb\" target=\"_parent\"><img src=\"https://colab.research.google.com/assets/colab-badge.svg\" alt=\"Open In Colab\"/></a>"
      ]
    },
    {
      "cell_type": "markdown",
      "source": [
        "*# **Benjamin** Cohen - Blitz : Case study: Operations Intern*"
      ],
      "metadata": {
        "id": "DTC1IpqRGBjE"
      }
    },
    {
      "cell_type": "markdown",
      "source": [
        "# **Preliminary Study On the Customers' File Used In Question 2**"
      ],
      "metadata": {
        "id": "BpF1t2FQGE8c"
      }
    },
    {
      "cell_type": "markdown",
      "source": [
        "# Unzip the **file**"
      ],
      "metadata": {
        "id": "Q6uKAyFd8Xje"
      }
    },
    {
      "cell_type": "code",
      "source": [
        "!unzip 'Case study - Ops intern.zip'"
      ],
      "metadata": {
        "colab": {
          "base_uri": "https://localhost:8080/"
        },
        "id": "iZ5jRmMlzFHQ",
        "outputId": "5e3df0b4-1841-47ed-e264-fd71a03afd45"
      },
      "execution_count": null,
      "outputs": [
        {
          "output_type": "stream",
          "name": "stdout",
          "text": [
            "Archive:  Case study - Ops intern.zip\n",
            "replace Case study - Ops intern/Case study - Ops intern.pdf? [y]es, [n]o, [A]ll, [N]one, [r]ename: A\n",
            "  inflating: Case study - Ops intern/Case study - Ops intern.pdf  \n",
            "  inflating: __MACOSX/Case study - Ops intern/._Case study - Ops intern.pdf  \n",
            "  inflating: Case study - Ops intern/Case study - Ops intern.csv  \n",
            "  inflating: __MACOSX/Case study - Ops intern/._Case study - Ops intern.csv  \n"
          ]
        }
      ]
    },
    {
      "cell_type": "markdown",
      "source": [
        "# **Imports**"
      ],
      "metadata": {
        "id": "wXiui9pu8gCp"
      }
    },
    {
      "cell_type": "code",
      "execution_count": null,
      "metadata": {
        "id": "r0NJ8-7nypzf"
      },
      "outputs": [],
      "source": [
        "import pandas as pd\n",
        "import numpy as np\n",
        "import matplotlib.pyplot as plt\n",
        "import seaborn as sns\n",
        "from datetime import datetime\n",
        "import time"
      ]
    },
    {
      "cell_type": "markdown",
      "source": [
        "# **Read the csv file**"
      ],
      "metadata": {
        "id": "oCyE_GzJ8iyj"
      }
    },
    {
      "cell_type": "code",
      "source": [
        "df = pd.read_csv('/content/Case study - Ops intern/Case study - Ops intern.csv')"
      ],
      "metadata": {
        "id": "dSMkiTTNy2V5"
      },
      "execution_count": null,
      "outputs": []
    },
    {
      "cell_type": "markdown",
      "source": [
        "# **Exploratory data analysis keeping failed transactions**"
      ],
      "metadata": {
        "id": "rCOFxikI8nhH"
      }
    },
    {
      "cell_type": "code",
      "source": [
        "df.head()"
      ],
      "metadata": {
        "colab": {
          "base_uri": "https://localhost:8080/",
          "height": 206
        },
        "id": "HXC1avqqzbty",
        "outputId": "b91f3761-593b-4f21-c7b6-baa31bfb6b8b"
      },
      "execution_count": null,
      "outputs": [
        {
          "output_type": "execute_result",
          "data": {
            "text/plain": [
              "  Date;Method;Amount;Success?\n",
              "0   01/01/2022;ApplePay;7;Yes\n",
              "1  01/01/2022;ApplePay;12;Yes\n",
              "2   01/01/2022;ApplePay;5;Yes\n",
              "3  01/01/2022;ApplePay;12;Yes\n",
              "4  01/01/2022;ApplePay;15;Yes"
            ],
            "text/html": [
              "\n",
              "  <div id=\"df-e1e3018f-dd57-4e96-9aa1-56c6c004fb19\">\n",
              "    <div class=\"colab-df-container\">\n",
              "      <div>\n",
              "<style scoped>\n",
              "    .dataframe tbody tr th:only-of-type {\n",
              "        vertical-align: middle;\n",
              "    }\n",
              "\n",
              "    .dataframe tbody tr th {\n",
              "        vertical-align: top;\n",
              "    }\n",
              "\n",
              "    .dataframe thead th {\n",
              "        text-align: right;\n",
              "    }\n",
              "</style>\n",
              "<table border=\"1\" class=\"dataframe\">\n",
              "  <thead>\n",
              "    <tr style=\"text-align: right;\">\n",
              "      <th></th>\n",
              "      <th>Date;Method;Amount;Success?</th>\n",
              "    </tr>\n",
              "  </thead>\n",
              "  <tbody>\n",
              "    <tr>\n",
              "      <th>0</th>\n",
              "      <td>01/01/2022;ApplePay;7;Yes</td>\n",
              "    </tr>\n",
              "    <tr>\n",
              "      <th>1</th>\n",
              "      <td>01/01/2022;ApplePay;12;Yes</td>\n",
              "    </tr>\n",
              "    <tr>\n",
              "      <th>2</th>\n",
              "      <td>01/01/2022;ApplePay;5;Yes</td>\n",
              "    </tr>\n",
              "    <tr>\n",
              "      <th>3</th>\n",
              "      <td>01/01/2022;ApplePay;12;Yes</td>\n",
              "    </tr>\n",
              "    <tr>\n",
              "      <th>4</th>\n",
              "      <td>01/01/2022;ApplePay;15;Yes</td>\n",
              "    </tr>\n",
              "  </tbody>\n",
              "</table>\n",
              "</div>\n",
              "      <button class=\"colab-df-convert\" onclick=\"convertToInteractive('df-e1e3018f-dd57-4e96-9aa1-56c6c004fb19')\"\n",
              "              title=\"Convert this dataframe to an interactive table.\"\n",
              "              style=\"display:none;\">\n",
              "        \n",
              "  <svg xmlns=\"http://www.w3.org/2000/svg\" height=\"24px\"viewBox=\"0 0 24 24\"\n",
              "       width=\"24px\">\n",
              "    <path d=\"M0 0h24v24H0V0z\" fill=\"none\"/>\n",
              "    <path d=\"M18.56 5.44l.94 2.06.94-2.06 2.06-.94-2.06-.94-.94-2.06-.94 2.06-2.06.94zm-11 1L8.5 8.5l.94-2.06 2.06-.94-2.06-.94L8.5 2.5l-.94 2.06-2.06.94zm10 10l.94 2.06.94-2.06 2.06-.94-2.06-.94-.94-2.06-.94 2.06-2.06.94z\"/><path d=\"M17.41 7.96l-1.37-1.37c-.4-.4-.92-.59-1.43-.59-.52 0-1.04.2-1.43.59L10.3 9.45l-7.72 7.72c-.78.78-.78 2.05 0 2.83L4 21.41c.39.39.9.59 1.41.59.51 0 1.02-.2 1.41-.59l7.78-7.78 2.81-2.81c.8-.78.8-2.07 0-2.86zM5.41 20L4 18.59l7.72-7.72 1.47 1.35L5.41 20z\"/>\n",
              "  </svg>\n",
              "      </button>\n",
              "      \n",
              "  <style>\n",
              "    .colab-df-container {\n",
              "      display:flex;\n",
              "      flex-wrap:wrap;\n",
              "      gap: 12px;\n",
              "    }\n",
              "\n",
              "    .colab-df-convert {\n",
              "      background-color: #E8F0FE;\n",
              "      border: none;\n",
              "      border-radius: 50%;\n",
              "      cursor: pointer;\n",
              "      display: none;\n",
              "      fill: #1967D2;\n",
              "      height: 32px;\n",
              "      padding: 0 0 0 0;\n",
              "      width: 32px;\n",
              "    }\n",
              "\n",
              "    .colab-df-convert:hover {\n",
              "      background-color: #E2EBFA;\n",
              "      box-shadow: 0px 1px 2px rgba(60, 64, 67, 0.3), 0px 1px 3px 1px rgba(60, 64, 67, 0.15);\n",
              "      fill: #174EA6;\n",
              "    }\n",
              "\n",
              "    [theme=dark] .colab-df-convert {\n",
              "      background-color: #3B4455;\n",
              "      fill: #D2E3FC;\n",
              "    }\n",
              "\n",
              "    [theme=dark] .colab-df-convert:hover {\n",
              "      background-color: #434B5C;\n",
              "      box-shadow: 0px 1px 3px 1px rgba(0, 0, 0, 0.15);\n",
              "      filter: drop-shadow(0px 1px 2px rgba(0, 0, 0, 0.3));\n",
              "      fill: #FFFFFF;\n",
              "    }\n",
              "  </style>\n",
              "\n",
              "      <script>\n",
              "        const buttonEl =\n",
              "          document.querySelector('#df-e1e3018f-dd57-4e96-9aa1-56c6c004fb19 button.colab-df-convert');\n",
              "        buttonEl.style.display =\n",
              "          google.colab.kernel.accessAllowed ? 'block' : 'none';\n",
              "\n",
              "        async function convertToInteractive(key) {\n",
              "          const element = document.querySelector('#df-e1e3018f-dd57-4e96-9aa1-56c6c004fb19');\n",
              "          const dataTable =\n",
              "            await google.colab.kernel.invokeFunction('convertToInteractive',\n",
              "                                                     [key], {});\n",
              "          if (!dataTable) return;\n",
              "\n",
              "          const docLinkHtml = 'Like what you see? Visit the ' +\n",
              "            '<a target=\"_blank\" href=https://colab.research.google.com/notebooks/data_table.ipynb>data table notebook</a>'\n",
              "            + ' to learn more about interactive tables.';\n",
              "          element.innerHTML = '';\n",
              "          dataTable['output_type'] = 'display_data';\n",
              "          await google.colab.output.renderOutput(dataTable, element);\n",
              "          const docLink = document.createElement('div');\n",
              "          docLink.innerHTML = docLinkHtml;\n",
              "          element.appendChild(docLink);\n",
              "        }\n",
              "      </script>\n",
              "    </div>\n",
              "  </div>\n",
              "  "
            ]
          },
          "metadata": {},
          "execution_count": 247
        }
      ]
    },
    {
      "cell_type": "code",
      "source": [
        "df.isna().sum() # Number of NaNs in the dataset."
      ],
      "metadata": {
        "colab": {
          "base_uri": "https://localhost:8080/"
        },
        "id": "xodcBaTFzdTz",
        "outputId": "c210344b-3ae7-42f1-9561-c14f5bce6b37"
      },
      "execution_count": null,
      "outputs": [
        {
          "output_type": "execute_result",
          "data": {
            "text/plain": [
              "Date;Method;Amount;Success?    0\n",
              "dtype: int64"
            ]
          },
          "metadata": {},
          "execution_count": 248
        }
      ]
    },
    {
      "cell_type": "code",
      "source": [
        "df.columns # Visualize the various features."
      ],
      "metadata": {
        "colab": {
          "base_uri": "https://localhost:8080/"
        },
        "id": "_0lB5KPm0oIi",
        "outputId": "d1361de6-9a8d-4a07-ad2b-b3e3fad9c453"
      },
      "execution_count": null,
      "outputs": [
        {
          "output_type": "execute_result",
          "data": {
            "text/plain": [
              "Index(['Date;Method;Amount;Success?'], dtype='object')"
            ]
          },
          "metadata": {},
          "execution_count": 249
        }
      ]
    },
    {
      "cell_type": "markdown",
      "source": [
        "We can see that the dataset has only one column but four features in reality. To get a more sensible data representation we use the method split of Python."
      ],
      "metadata": {
        "id": "n5Y_NyVX8xYC"
      }
    },
    {
      "cell_type": "code",
      "source": [
        "# Print the 10th first samples showing how we would like the data to be segmented.\n",
        "for x in range (0,10):\n",
        "  print (list(df['Date;Method;Amount;Success?'])[x].split(';'))"
      ],
      "metadata": {
        "colab": {
          "base_uri": "https://localhost:8080/"
        },
        "id": "teH7lIC64PeH",
        "outputId": "67918022-9bba-43ee-86bb-765a8018b2a8"
      },
      "execution_count": null,
      "outputs": [
        {
          "output_type": "stream",
          "name": "stdout",
          "text": [
            "['01/01/2022', 'ApplePay', '7', 'Yes']\n",
            "['01/01/2022', 'ApplePay', '12', 'Yes']\n",
            "['01/01/2022', 'ApplePay', '5', 'Yes']\n",
            "['01/01/2022', 'ApplePay', '12', 'Yes']\n",
            "['01/01/2022', 'ApplePay', '15', 'Yes']\n",
            "['01/01/2022', 'ApplePay', '14', 'Yes']\n",
            "['01/01/2022', 'ApplePay', '15', 'Yes']\n",
            "['01/01/2022', 'ApplePay', '14', 'Yes']\n",
            "['01/01/2022', 'ApplePay', '10', 'Yes']\n",
            "['01/01/2022', 'ApplePay', '7', 'Yes']\n"
          ]
        }
      ]
    },
    {
      "cell_type": "code",
      "source": [
        "# For Each Feature, Add A Column To The Dataset.\n",
        "df['Date']= [x.split(';')[0] for x in df['Date;Method;Amount;Success?']]\n",
        "df['Method']= [x.split(';')[1] for x in df['Date;Method;Amount;Success?']]\n",
        "df['Amount']= [x.split(';')[2] for x in df['Date;Method;Amount;Success?']]\n",
        "df['Success']= [x.split(';')[3] for x in df['Date;Method;Amount;Success?']]"
      ],
      "metadata": {
        "id": "JFMxoKSW1w9Z"
      },
      "execution_count": null,
      "outputs": []
    },
    {
      "cell_type": "code",
      "source": [
        "df.head() # Old Dataset With The New Columns."
      ],
      "metadata": {
        "colab": {
          "base_uri": "https://localhost:8080/",
          "height": 206
        },
        "id": "HRm4WZVI3cP2",
        "outputId": "a58c6e84-f9d1-4e5b-96d3-8f169b6c6fa7"
      },
      "execution_count": null,
      "outputs": [
        {
          "output_type": "execute_result",
          "data": {
            "text/plain": [
              "  Date;Method;Amount;Success?        Date    Method Amount Success\n",
              "0   01/01/2022;ApplePay;7;Yes  01/01/2022  ApplePay      7     Yes\n",
              "1  01/01/2022;ApplePay;12;Yes  01/01/2022  ApplePay     12     Yes\n",
              "2   01/01/2022;ApplePay;5;Yes  01/01/2022  ApplePay      5     Yes\n",
              "3  01/01/2022;ApplePay;12;Yes  01/01/2022  ApplePay     12     Yes\n",
              "4  01/01/2022;ApplePay;15;Yes  01/01/2022  ApplePay     15     Yes"
            ],
            "text/html": [
              "\n",
              "  <div id=\"df-e240dc51-2fbc-44b7-8e14-3d75a53a3a77\">\n",
              "    <div class=\"colab-df-container\">\n",
              "      <div>\n",
              "<style scoped>\n",
              "    .dataframe tbody tr th:only-of-type {\n",
              "        vertical-align: middle;\n",
              "    }\n",
              "\n",
              "    .dataframe tbody tr th {\n",
              "        vertical-align: top;\n",
              "    }\n",
              "\n",
              "    .dataframe thead th {\n",
              "        text-align: right;\n",
              "    }\n",
              "</style>\n",
              "<table border=\"1\" class=\"dataframe\">\n",
              "  <thead>\n",
              "    <tr style=\"text-align: right;\">\n",
              "      <th></th>\n",
              "      <th>Date;Method;Amount;Success?</th>\n",
              "      <th>Date</th>\n",
              "      <th>Method</th>\n",
              "      <th>Amount</th>\n",
              "      <th>Success</th>\n",
              "    </tr>\n",
              "  </thead>\n",
              "  <tbody>\n",
              "    <tr>\n",
              "      <th>0</th>\n",
              "      <td>01/01/2022;ApplePay;7;Yes</td>\n",
              "      <td>01/01/2022</td>\n",
              "      <td>ApplePay</td>\n",
              "      <td>7</td>\n",
              "      <td>Yes</td>\n",
              "    </tr>\n",
              "    <tr>\n",
              "      <th>1</th>\n",
              "      <td>01/01/2022;ApplePay;12;Yes</td>\n",
              "      <td>01/01/2022</td>\n",
              "      <td>ApplePay</td>\n",
              "      <td>12</td>\n",
              "      <td>Yes</td>\n",
              "    </tr>\n",
              "    <tr>\n",
              "      <th>2</th>\n",
              "      <td>01/01/2022;ApplePay;5;Yes</td>\n",
              "      <td>01/01/2022</td>\n",
              "      <td>ApplePay</td>\n",
              "      <td>5</td>\n",
              "      <td>Yes</td>\n",
              "    </tr>\n",
              "    <tr>\n",
              "      <th>3</th>\n",
              "      <td>01/01/2022;ApplePay;12;Yes</td>\n",
              "      <td>01/01/2022</td>\n",
              "      <td>ApplePay</td>\n",
              "      <td>12</td>\n",
              "      <td>Yes</td>\n",
              "    </tr>\n",
              "    <tr>\n",
              "      <th>4</th>\n",
              "      <td>01/01/2022;ApplePay;15;Yes</td>\n",
              "      <td>01/01/2022</td>\n",
              "      <td>ApplePay</td>\n",
              "      <td>15</td>\n",
              "      <td>Yes</td>\n",
              "    </tr>\n",
              "  </tbody>\n",
              "</table>\n",
              "</div>\n",
              "      <button class=\"colab-df-convert\" onclick=\"convertToInteractive('df-e240dc51-2fbc-44b7-8e14-3d75a53a3a77')\"\n",
              "              title=\"Convert this dataframe to an interactive table.\"\n",
              "              style=\"display:none;\">\n",
              "        \n",
              "  <svg xmlns=\"http://www.w3.org/2000/svg\" height=\"24px\"viewBox=\"0 0 24 24\"\n",
              "       width=\"24px\">\n",
              "    <path d=\"M0 0h24v24H0V0z\" fill=\"none\"/>\n",
              "    <path d=\"M18.56 5.44l.94 2.06.94-2.06 2.06-.94-2.06-.94-.94-2.06-.94 2.06-2.06.94zm-11 1L8.5 8.5l.94-2.06 2.06-.94-2.06-.94L8.5 2.5l-.94 2.06-2.06.94zm10 10l.94 2.06.94-2.06 2.06-.94-2.06-.94-.94-2.06-.94 2.06-2.06.94z\"/><path d=\"M17.41 7.96l-1.37-1.37c-.4-.4-.92-.59-1.43-.59-.52 0-1.04.2-1.43.59L10.3 9.45l-7.72 7.72c-.78.78-.78 2.05 0 2.83L4 21.41c.39.39.9.59 1.41.59.51 0 1.02-.2 1.41-.59l7.78-7.78 2.81-2.81c.8-.78.8-2.07 0-2.86zM5.41 20L4 18.59l7.72-7.72 1.47 1.35L5.41 20z\"/>\n",
              "  </svg>\n",
              "      </button>\n",
              "      \n",
              "  <style>\n",
              "    .colab-df-container {\n",
              "      display:flex;\n",
              "      flex-wrap:wrap;\n",
              "      gap: 12px;\n",
              "    }\n",
              "\n",
              "    .colab-df-convert {\n",
              "      background-color: #E8F0FE;\n",
              "      border: none;\n",
              "      border-radius: 50%;\n",
              "      cursor: pointer;\n",
              "      display: none;\n",
              "      fill: #1967D2;\n",
              "      height: 32px;\n",
              "      padding: 0 0 0 0;\n",
              "      width: 32px;\n",
              "    }\n",
              "\n",
              "    .colab-df-convert:hover {\n",
              "      background-color: #E2EBFA;\n",
              "      box-shadow: 0px 1px 2px rgba(60, 64, 67, 0.3), 0px 1px 3px 1px rgba(60, 64, 67, 0.15);\n",
              "      fill: #174EA6;\n",
              "    }\n",
              "\n",
              "    [theme=dark] .colab-df-convert {\n",
              "      background-color: #3B4455;\n",
              "      fill: #D2E3FC;\n",
              "    }\n",
              "\n",
              "    [theme=dark] .colab-df-convert:hover {\n",
              "      background-color: #434B5C;\n",
              "      box-shadow: 0px 1px 3px 1px rgba(0, 0, 0, 0.15);\n",
              "      filter: drop-shadow(0px 1px 2px rgba(0, 0, 0, 0.3));\n",
              "      fill: #FFFFFF;\n",
              "    }\n",
              "  </style>\n",
              "\n",
              "      <script>\n",
              "        const buttonEl =\n",
              "          document.querySelector('#df-e240dc51-2fbc-44b7-8e14-3d75a53a3a77 button.colab-df-convert');\n",
              "        buttonEl.style.display =\n",
              "          google.colab.kernel.accessAllowed ? 'block' : 'none';\n",
              "\n",
              "        async function convertToInteractive(key) {\n",
              "          const element = document.querySelector('#df-e240dc51-2fbc-44b7-8e14-3d75a53a3a77');\n",
              "          const dataTable =\n",
              "            await google.colab.kernel.invokeFunction('convertToInteractive',\n",
              "                                                     [key], {});\n",
              "          if (!dataTable) return;\n",
              "\n",
              "          const docLinkHtml = 'Like what you see? Visit the ' +\n",
              "            '<a target=\"_blank\" href=https://colab.research.google.com/notebooks/data_table.ipynb>data table notebook</a>'\n",
              "            + ' to learn more about interactive tables.';\n",
              "          element.innerHTML = '';\n",
              "          dataTable['output_type'] = 'display_data';\n",
              "          await google.colab.output.renderOutput(dataTable, element);\n",
              "          const docLink = document.createElement('div');\n",
              "          docLink.innerHTML = docLinkHtml;\n",
              "          element.appendChild(docLink);\n",
              "        }\n",
              "      </script>\n",
              "    </div>\n",
              "  </div>\n",
              "  "
            ]
          },
          "metadata": {},
          "execution_count": 252
        }
      ]
    },
    {
      "cell_type": "code",
      "source": [
        "del df['Date;Method;Amount;Success?'] # Delete Old Column.\n",
        "df.head() # New Dataset."
      ],
      "metadata": {
        "colab": {
          "base_uri": "https://localhost:8080/",
          "height": 206
        },
        "id": "-CakGxvJ0Hdj",
        "outputId": "e9f8dadf-ca23-411d-8d13-c50ecaa9e2af"
      },
      "execution_count": null,
      "outputs": [
        {
          "output_type": "execute_result",
          "data": {
            "text/plain": [
              "         Date    Method Amount Success\n",
              "0  01/01/2022  ApplePay      7     Yes\n",
              "1  01/01/2022  ApplePay     12     Yes\n",
              "2  01/01/2022  ApplePay      5     Yes\n",
              "3  01/01/2022  ApplePay     12     Yes\n",
              "4  01/01/2022  ApplePay     15     Yes"
            ],
            "text/html": [
              "\n",
              "  <div id=\"df-fe30ba7e-0e3e-49a7-84bf-02f01145c6ca\">\n",
              "    <div class=\"colab-df-container\">\n",
              "      <div>\n",
              "<style scoped>\n",
              "    .dataframe tbody tr th:only-of-type {\n",
              "        vertical-align: middle;\n",
              "    }\n",
              "\n",
              "    .dataframe tbody tr th {\n",
              "        vertical-align: top;\n",
              "    }\n",
              "\n",
              "    .dataframe thead th {\n",
              "        text-align: right;\n",
              "    }\n",
              "</style>\n",
              "<table border=\"1\" class=\"dataframe\">\n",
              "  <thead>\n",
              "    <tr style=\"text-align: right;\">\n",
              "      <th></th>\n",
              "      <th>Date</th>\n",
              "      <th>Method</th>\n",
              "      <th>Amount</th>\n",
              "      <th>Success</th>\n",
              "    </tr>\n",
              "  </thead>\n",
              "  <tbody>\n",
              "    <tr>\n",
              "      <th>0</th>\n",
              "      <td>01/01/2022</td>\n",
              "      <td>ApplePay</td>\n",
              "      <td>7</td>\n",
              "      <td>Yes</td>\n",
              "    </tr>\n",
              "    <tr>\n",
              "      <th>1</th>\n",
              "      <td>01/01/2022</td>\n",
              "      <td>ApplePay</td>\n",
              "      <td>12</td>\n",
              "      <td>Yes</td>\n",
              "    </tr>\n",
              "    <tr>\n",
              "      <th>2</th>\n",
              "      <td>01/01/2022</td>\n",
              "      <td>ApplePay</td>\n",
              "      <td>5</td>\n",
              "      <td>Yes</td>\n",
              "    </tr>\n",
              "    <tr>\n",
              "      <th>3</th>\n",
              "      <td>01/01/2022</td>\n",
              "      <td>ApplePay</td>\n",
              "      <td>12</td>\n",
              "      <td>Yes</td>\n",
              "    </tr>\n",
              "    <tr>\n",
              "      <th>4</th>\n",
              "      <td>01/01/2022</td>\n",
              "      <td>ApplePay</td>\n",
              "      <td>15</td>\n",
              "      <td>Yes</td>\n",
              "    </tr>\n",
              "  </tbody>\n",
              "</table>\n",
              "</div>\n",
              "      <button class=\"colab-df-convert\" onclick=\"convertToInteractive('df-fe30ba7e-0e3e-49a7-84bf-02f01145c6ca')\"\n",
              "              title=\"Convert this dataframe to an interactive table.\"\n",
              "              style=\"display:none;\">\n",
              "        \n",
              "  <svg xmlns=\"http://www.w3.org/2000/svg\" height=\"24px\"viewBox=\"0 0 24 24\"\n",
              "       width=\"24px\">\n",
              "    <path d=\"M0 0h24v24H0V0z\" fill=\"none\"/>\n",
              "    <path d=\"M18.56 5.44l.94 2.06.94-2.06 2.06-.94-2.06-.94-.94-2.06-.94 2.06-2.06.94zm-11 1L8.5 8.5l.94-2.06 2.06-.94-2.06-.94L8.5 2.5l-.94 2.06-2.06.94zm10 10l.94 2.06.94-2.06 2.06-.94-2.06-.94-.94-2.06-.94 2.06-2.06.94z\"/><path d=\"M17.41 7.96l-1.37-1.37c-.4-.4-.92-.59-1.43-.59-.52 0-1.04.2-1.43.59L10.3 9.45l-7.72 7.72c-.78.78-.78 2.05 0 2.83L4 21.41c.39.39.9.59 1.41.59.51 0 1.02-.2 1.41-.59l7.78-7.78 2.81-2.81c.8-.78.8-2.07 0-2.86zM5.41 20L4 18.59l7.72-7.72 1.47 1.35L5.41 20z\"/>\n",
              "  </svg>\n",
              "      </button>\n",
              "      \n",
              "  <style>\n",
              "    .colab-df-container {\n",
              "      display:flex;\n",
              "      flex-wrap:wrap;\n",
              "      gap: 12px;\n",
              "    }\n",
              "\n",
              "    .colab-df-convert {\n",
              "      background-color: #E8F0FE;\n",
              "      border: none;\n",
              "      border-radius: 50%;\n",
              "      cursor: pointer;\n",
              "      display: none;\n",
              "      fill: #1967D2;\n",
              "      height: 32px;\n",
              "      padding: 0 0 0 0;\n",
              "      width: 32px;\n",
              "    }\n",
              "\n",
              "    .colab-df-convert:hover {\n",
              "      background-color: #E2EBFA;\n",
              "      box-shadow: 0px 1px 2px rgba(60, 64, 67, 0.3), 0px 1px 3px 1px rgba(60, 64, 67, 0.15);\n",
              "      fill: #174EA6;\n",
              "    }\n",
              "\n",
              "    [theme=dark] .colab-df-convert {\n",
              "      background-color: #3B4455;\n",
              "      fill: #D2E3FC;\n",
              "    }\n",
              "\n",
              "    [theme=dark] .colab-df-convert:hover {\n",
              "      background-color: #434B5C;\n",
              "      box-shadow: 0px 1px 3px 1px rgba(0, 0, 0, 0.15);\n",
              "      filter: drop-shadow(0px 1px 2px rgba(0, 0, 0, 0.3));\n",
              "      fill: #FFFFFF;\n",
              "    }\n",
              "  </style>\n",
              "\n",
              "      <script>\n",
              "        const buttonEl =\n",
              "          document.querySelector('#df-fe30ba7e-0e3e-49a7-84bf-02f01145c6ca button.colab-df-convert');\n",
              "        buttonEl.style.display =\n",
              "          google.colab.kernel.accessAllowed ? 'block' : 'none';\n",
              "\n",
              "        async function convertToInteractive(key) {\n",
              "          const element = document.querySelector('#df-fe30ba7e-0e3e-49a7-84bf-02f01145c6ca');\n",
              "          const dataTable =\n",
              "            await google.colab.kernel.invokeFunction('convertToInteractive',\n",
              "                                                     [key], {});\n",
              "          if (!dataTable) return;\n",
              "\n",
              "          const docLinkHtml = 'Like what you see? Visit the ' +\n",
              "            '<a target=\"_blank\" href=https://colab.research.google.com/notebooks/data_table.ipynb>data table notebook</a>'\n",
              "            + ' to learn more about interactive tables.';\n",
              "          element.innerHTML = '';\n",
              "          dataTable['output_type'] = 'display_data';\n",
              "          await google.colab.output.renderOutput(dataTable, element);\n",
              "          const docLink = document.createElement('div');\n",
              "          docLink.innerHTML = docLinkHtml;\n",
              "          element.appendChild(docLink);\n",
              "        }\n",
              "      </script>\n",
              "    </div>\n",
              "  </div>\n",
              "  "
            ]
          },
          "metadata": {},
          "execution_count": 253
        }
      ]
    },
    {
      "cell_type": "code",
      "source": [
        "df.isna().sum() # Number of NaNs in the dataset."
      ],
      "metadata": {
        "colab": {
          "base_uri": "https://localhost:8080/"
        },
        "id": "hUD-P-YF2570",
        "outputId": "79eb4e4e-e1ad-4942-e52c-5144449c3c75"
      },
      "execution_count": null,
      "outputs": [
        {
          "output_type": "execute_result",
          "data": {
            "text/plain": [
              "Date       0\n",
              "Method     0\n",
              "Amount     0\n",
              "Success    0\n",
              "dtype: int64"
            ]
          },
          "metadata": {},
          "execution_count": 254
        }
      ]
    },
    {
      "cell_type": "code",
      "source": [
        "print(df.nunique()) # Number Of Unique Items In Each Columns.\n",
        "                    # We can see that the data was collected over a month, the customers paid 90 unique prices\n",
        "                    # using 3 methods of payment and either got a successful or failed transaction."
      ],
      "metadata": {
        "colab": {
          "base_uri": "https://localhost:8080/"
        },
        "id": "yt0K_U2OHKg0",
        "outputId": "537817af-7d86-4efb-89ac-acb2455476ec"
      },
      "execution_count": null,
      "outputs": [
        {
          "output_type": "stream",
          "name": "stdout",
          "text": [
            "Date       30\n",
            "Method      3\n",
            "Amount     90\n",
            "Success     2\n",
            "dtype: int64\n"
          ]
        }
      ]
    },
    {
      "cell_type": "code",
      "source": [
        "type(df['Amount'][0]) # The type of amount is not integer here."
      ],
      "metadata": {
        "colab": {
          "base_uri": "https://localhost:8080/"
        },
        "id": "fQEqVTGDyj9X",
        "outputId": "83de88f7-46a9-438c-9098-db539c556a78"
      },
      "execution_count": null,
      "outputs": [
        {
          "output_type": "execute_result",
          "data": {
            "text/plain": [
              "str"
            ]
          },
          "metadata": {},
          "execution_count": 256
        }
      ]
    },
    {
      "cell_type": "code",
      "source": [
        "df['Amount'] = [int(amount) for amount in df['Amount']] # We convert the amounts'type to integer."
      ],
      "metadata": {
        "id": "K41XzZKpWE4j"
      },
      "execution_count": null,
      "outputs": []
    },
    {
      "cell_type": "code",
      "source": [
        "# We can see the structure of the date in strings.\n",
        "print(type(df['Date'][0]))\n",
        "for i in range(len(df['Date'][0])):\n",
        "  print(df['Date'][0][i])"
      ],
      "metadata": {
        "colab": {
          "base_uri": "https://localhost:8080/"
        },
        "id": "OVo7tK1Jgj7m",
        "outputId": "11dff68c-aecb-4e14-ddee-16866e4557ae"
      },
      "execution_count": null,
      "outputs": [
        {
          "output_type": "stream",
          "name": "stdout",
          "text": [
            "<class 'str'>\n",
            "0\n",
            "1\n",
            "/\n",
            "0\n",
            "1\n",
            "/\n",
            "2\n",
            "0\n",
            "2\n",
            "2\n"
          ]
        }
      ]
    },
    {
      "cell_type": "code",
      "source": [
        "print(type(df['Date'][0])) # Our dates are still strings.\n",
        "df['Date'] = [datetime.strptime(x, '%d/%m/%Y') for x in df['Date']] # We change their type to datetime object.\n",
        "print(type(df['Date'][0])) # We get a conversion of dates to timestamps."
      ],
      "metadata": {
        "colab": {
          "base_uri": "https://localhost:8080/"
        },
        "id": "PKfW3cIoiEAl",
        "outputId": "4e76828f-d35c-4bd5-ed44-a08e0876881e"
      },
      "execution_count": null,
      "outputs": [
        {
          "output_type": "stream",
          "name": "stdout",
          "text": [
            "<class 'str'>\n",
            "<class 'pandas._libs.tslibs.timestamps.Timestamp'>\n"
          ]
        }
      ]
    },
    {
      "cell_type": "code",
      "source": [
        "# We print a statistical description of the amounts paid by the customers.\n",
        "df.describe()"
      ],
      "metadata": {
        "colab": {
          "base_uri": "https://localhost:8080/",
          "height": 300
        },
        "id": "b4FFEUWDIm8a",
        "outputId": "4bafd8a8-6994-4cdc-8d48-8d772bb0a571"
      },
      "execution_count": null,
      "outputs": [
        {
          "output_type": "execute_result",
          "data": {
            "text/plain": [
              "            Amount\n",
              "count  1060.000000\n",
              "mean     33.916038\n",
              "std      24.456810\n",
              "min       5.000000\n",
              "25%      13.000000\n",
              "50%      30.000000\n",
              "75%      40.000000\n",
              "max     100.000000"
            ],
            "text/html": [
              "\n",
              "  <div id=\"df-ea9e922c-0d25-45e3-9278-ad9e5c58c542\">\n",
              "    <div class=\"colab-df-container\">\n",
              "      <div>\n",
              "<style scoped>\n",
              "    .dataframe tbody tr th:only-of-type {\n",
              "        vertical-align: middle;\n",
              "    }\n",
              "\n",
              "    .dataframe tbody tr th {\n",
              "        vertical-align: top;\n",
              "    }\n",
              "\n",
              "    .dataframe thead th {\n",
              "        text-align: right;\n",
              "    }\n",
              "</style>\n",
              "<table border=\"1\" class=\"dataframe\">\n",
              "  <thead>\n",
              "    <tr style=\"text-align: right;\">\n",
              "      <th></th>\n",
              "      <th>Amount</th>\n",
              "    </tr>\n",
              "  </thead>\n",
              "  <tbody>\n",
              "    <tr>\n",
              "      <th>count</th>\n",
              "      <td>1060.000000</td>\n",
              "    </tr>\n",
              "    <tr>\n",
              "      <th>mean</th>\n",
              "      <td>33.916038</td>\n",
              "    </tr>\n",
              "    <tr>\n",
              "      <th>std</th>\n",
              "      <td>24.456810</td>\n",
              "    </tr>\n",
              "    <tr>\n",
              "      <th>min</th>\n",
              "      <td>5.000000</td>\n",
              "    </tr>\n",
              "    <tr>\n",
              "      <th>25%</th>\n",
              "      <td>13.000000</td>\n",
              "    </tr>\n",
              "    <tr>\n",
              "      <th>50%</th>\n",
              "      <td>30.000000</td>\n",
              "    </tr>\n",
              "    <tr>\n",
              "      <th>75%</th>\n",
              "      <td>40.000000</td>\n",
              "    </tr>\n",
              "    <tr>\n",
              "      <th>max</th>\n",
              "      <td>100.000000</td>\n",
              "    </tr>\n",
              "  </tbody>\n",
              "</table>\n",
              "</div>\n",
              "      <button class=\"colab-df-convert\" onclick=\"convertToInteractive('df-ea9e922c-0d25-45e3-9278-ad9e5c58c542')\"\n",
              "              title=\"Convert this dataframe to an interactive table.\"\n",
              "              style=\"display:none;\">\n",
              "        \n",
              "  <svg xmlns=\"http://www.w3.org/2000/svg\" height=\"24px\"viewBox=\"0 0 24 24\"\n",
              "       width=\"24px\">\n",
              "    <path d=\"M0 0h24v24H0V0z\" fill=\"none\"/>\n",
              "    <path d=\"M18.56 5.44l.94 2.06.94-2.06 2.06-.94-2.06-.94-.94-2.06-.94 2.06-2.06.94zm-11 1L8.5 8.5l.94-2.06 2.06-.94-2.06-.94L8.5 2.5l-.94 2.06-2.06.94zm10 10l.94 2.06.94-2.06 2.06-.94-2.06-.94-.94-2.06-.94 2.06-2.06.94z\"/><path d=\"M17.41 7.96l-1.37-1.37c-.4-.4-.92-.59-1.43-.59-.52 0-1.04.2-1.43.59L10.3 9.45l-7.72 7.72c-.78.78-.78 2.05 0 2.83L4 21.41c.39.39.9.59 1.41.59.51 0 1.02-.2 1.41-.59l7.78-7.78 2.81-2.81c.8-.78.8-2.07 0-2.86zM5.41 20L4 18.59l7.72-7.72 1.47 1.35L5.41 20z\"/>\n",
              "  </svg>\n",
              "      </button>\n",
              "      \n",
              "  <style>\n",
              "    .colab-df-container {\n",
              "      display:flex;\n",
              "      flex-wrap:wrap;\n",
              "      gap: 12px;\n",
              "    }\n",
              "\n",
              "    .colab-df-convert {\n",
              "      background-color: #E8F0FE;\n",
              "      border: none;\n",
              "      border-radius: 50%;\n",
              "      cursor: pointer;\n",
              "      display: none;\n",
              "      fill: #1967D2;\n",
              "      height: 32px;\n",
              "      padding: 0 0 0 0;\n",
              "      width: 32px;\n",
              "    }\n",
              "\n",
              "    .colab-df-convert:hover {\n",
              "      background-color: #E2EBFA;\n",
              "      box-shadow: 0px 1px 2px rgba(60, 64, 67, 0.3), 0px 1px 3px 1px rgba(60, 64, 67, 0.15);\n",
              "      fill: #174EA6;\n",
              "    }\n",
              "\n",
              "    [theme=dark] .colab-df-convert {\n",
              "      background-color: #3B4455;\n",
              "      fill: #D2E3FC;\n",
              "    }\n",
              "\n",
              "    [theme=dark] .colab-df-convert:hover {\n",
              "      background-color: #434B5C;\n",
              "      box-shadow: 0px 1px 3px 1px rgba(0, 0, 0, 0.15);\n",
              "      filter: drop-shadow(0px 1px 2px rgba(0, 0, 0, 0.3));\n",
              "      fill: #FFFFFF;\n",
              "    }\n",
              "  </style>\n",
              "\n",
              "      <script>\n",
              "        const buttonEl =\n",
              "          document.querySelector('#df-ea9e922c-0d25-45e3-9278-ad9e5c58c542 button.colab-df-convert');\n",
              "        buttonEl.style.display =\n",
              "          google.colab.kernel.accessAllowed ? 'block' : 'none';\n",
              "\n",
              "        async function convertToInteractive(key) {\n",
              "          const element = document.querySelector('#df-ea9e922c-0d25-45e3-9278-ad9e5c58c542');\n",
              "          const dataTable =\n",
              "            await google.colab.kernel.invokeFunction('convertToInteractive',\n",
              "                                                     [key], {});\n",
              "          if (!dataTable) return;\n",
              "\n",
              "          const docLinkHtml = 'Like what you see? Visit the ' +\n",
              "            '<a target=\"_blank\" href=https://colab.research.google.com/notebooks/data_table.ipynb>data table notebook</a>'\n",
              "            + ' to learn more about interactive tables.';\n",
              "          element.innerHTML = '';\n",
              "          dataTable['output_type'] = 'display_data';\n",
              "          await google.colab.output.renderOutput(dataTable, element);\n",
              "          const docLink = document.createElement('div');\n",
              "          docLink.innerHTML = docLinkHtml;\n",
              "          element.appendChild(docLink);\n",
              "        }\n",
              "      </script>\n",
              "    </div>\n",
              "  </div>\n",
              "  "
            ]
          },
          "metadata": {},
          "execution_count": 260
        }
      ]
    },
    {
      "cell_type": "code",
      "source": [
        "print(df['Amount'].value_counts()) # Prints The Various Amounts Spent By The Customers from 5 to 100 \n",
        "                                   # and their repartition."
      ],
      "metadata": {
        "colab": {
          "base_uri": "https://localhost:8080/"
        },
        "id": "hg5XdjENHzrs",
        "outputId": "158bdad0-b927-43b2-e492-b1476b05aac7"
      },
      "execution_count": null,
      "outputs": [
        {
          "output_type": "stream",
          "name": "stdout",
          "text": [
            "6     38\n",
            "30    37\n",
            "14    36\n",
            "7     35\n",
            "39    35\n",
            "      ..\n",
            "81     2\n",
            "93     1\n",
            "97     1\n",
            "71     1\n",
            "59     1\n",
            "Name: Amount, Length: 90, dtype: int64\n"
          ]
        }
      ]
    },
    {
      "cell_type": "code",
      "source": [
        "df['Method'].value_counts() # Various Methods of Payments."
      ],
      "metadata": {
        "colab": {
          "base_uri": "https://localhost:8080/"
        },
        "id": "lj2TJLNZIc_D",
        "outputId": "00b4a19e-4389-4e17-a131-bb026a425097"
      },
      "execution_count": null,
      "outputs": [
        {
          "output_type": "execute_result",
          "data": {
            "text/plain": [
              "Paypal      367\n",
              "Card        353\n",
              "ApplePay    340\n",
              "Name: Method, dtype: int64"
            ]
          },
          "metadata": {},
          "execution_count": 262
        }
      ]
    },
    {
      "cell_type": "markdown",
      "source": [
        "**Full Dataset Methods of Payments Pie Plot**"
      ],
      "metadata": {
        "id": "9LrBds7qf1Sl"
      }
    },
    {
      "cell_type": "code",
      "source": [
        "counts = df['Method'].value_counts() # Various Methods of Payments.\n",
        "methods = 'Paypal', 'Card', 'ApplePay'\n",
        "sizes = [counts[0], counts[1], counts[2]]\n",
        "colors = ['yellowgreen', 'gold', 'lightskyblue']\n",
        "explode = (0, 0, 0)\n",
        "\n",
        "plt.pie(sizes, explode=explode, labels=methods, colors=colors, autopct='%1.1f%%', shadow=True, startangle=90)\n",
        "plt.axis('equal')\n",
        "plt.title('Full Dataset Methods of Payments Pie Plot')\n",
        "plt.show()"
      ],
      "metadata": {
        "colab": {
          "base_uri": "https://localhost:8080/",
          "height": 268
        },
        "id": "XnzuQ2d9V7he",
        "outputId": "50bdbebc-d112-4500-b7f9-613f9aecba44"
      },
      "execution_count": null,
      "outputs": [
        {
          "output_type": "display_data",
          "data": {
            "text/plain": [
              "<Figure size 432x288 with 1 Axes>"
            ],
            "image/png": "[encoded data removed]"
          },
          "metadata": {}
        }
      ]
    },
    {
      "cell_type": "markdown",
      "source": [
        "It seems at first sight that the three methods of payment are equally used by the customers. We will see later that by taking the failed transactions off our dataset, we have drastic changes and the proportion of people using the card method is way less important than what we initially think. Most successful transactions occure in reality on PayPal and ApplePay."
      ],
      "metadata": {
        "id": "P7V7jzX6YbhW"
      }
    },
    {
      "cell_type": "code",
      "source": [
        "print('Total amount supposedly gained by Blitz including the failed transactions:', df['Amount'].sum())"
      ],
      "metadata": {
        "colab": {
          "base_uri": "https://localhost:8080/"
        },
        "id": "GHsmdDB-CgLb",
        "outputId": "dcc3d764-eb60-4c52-d153-ba44107fe98c"
      },
      "execution_count": null,
      "outputs": [
        {
          "output_type": "stream",
          "name": "stdout",
          "text": [
            "Total amount supposedly gained by Blitz including the failed transactions: 35951\n"
          ]
        }
      ]
    },
    {
      "cell_type": "code",
      "source": [
        "df.info() # Print basic info about the features to check irrelevant data."
      ],
      "metadata": {
        "colab": {
          "base_uri": "https://localhost:8080/"
        },
        "id": "eg33n-fsUzJy",
        "outputId": "9cc16c74-b035-4d19-a05c-b2acd094139a"
      },
      "execution_count": null,
      "outputs": [
        {
          "output_type": "stream",
          "name": "stdout",
          "text": [
            "<class 'pandas.core.frame.DataFrame'>\n",
            "RangeIndex: 1060 entries, 0 to 1059\n",
            "Data columns (total 4 columns):\n",
            " #   Column   Non-Null Count  Dtype         \n",
            "---  ------   --------------  -----         \n",
            " 0   Date     1060 non-null   datetime64[ns]\n",
            " 1   Method   1060 non-null   object        \n",
            " 2   Amount   1060 non-null   int64         \n",
            " 3   Success  1060 non-null   object        \n",
            "dtypes: datetime64[ns](1), int64(1), object(2)\n",
            "memory usage: 33.2+ KB\n"
          ]
        }
      ]
    },
    {
      "cell_type": "markdown",
      "source": [
        "# **Basic description of High and Low Customers without failed transactions**"
      ],
      "metadata": {
        "id": "AI1my5ki6ONZ"
      }
    },
    {
      "cell_type": "code",
      "source": [
        "# We see two clusters segmented using the price spent on the app.\n",
        "passed_transactions =  df[df['Success']=='Yes']\n",
        "plt.plot(passed_transactions['Amount'].value_counts(),marker=\"o\")\n",
        "plt.xlabel(\"Amount paid by the customers\")\n",
        "plt.ylabel(\"Number of customers that paid the amount\")\n",
        "plt.title(\"Repartition of the customers and what they paid for the 1060 transactions\")\n",
        "plt.show()"
      ],
      "metadata": {
        "colab": {
          "base_uri": "https://localhost:8080/",
          "height": 295
        },
        "id": "7sHai1wzYi3l",
        "outputId": "11156005-78ce-449e-c943-d80d1a768dae"
      },
      "execution_count": null,
      "outputs": [
        {
          "output_type": "display_data",
          "data": {
            "text/plain": [
              "<Figure size 432x288 with 1 Axes>"
            ],
            "image/png": "[encoded data removed]"
          },
          "metadata": {
            "needs_background": "light"
          }
        }
      ]
    },
    {
      "cell_type": "code",
      "source": [
        "# In the following we will call the people that paid over 40 dollars the 'high customers' and the people that\n",
        "# paid less the 'low customers'.\n",
        "print('Dataset description for amounts <= 40\\n',  passed_transactions[passed_transactions['Amount']<=40 ]['Amount'].describe())"
      ],
      "metadata": {
        "colab": {
          "base_uri": "https://localhost:8080/"
        },
        "id": "zuF9uakWV3wM",
        "outputId": "6340e919-3f6d-4fea-a16a-44257d95c3ea"
      },
      "execution_count": null,
      "outputs": [
        {
          "output_type": "stream",
          "name": "stdout",
          "text": [
            "Dataset description for amounts <= 40\n",
            " count    643.000000\n",
            "mean      22.278383\n",
            "std       11.668391\n",
            "min        5.000000\n",
            "25%       11.000000\n",
            "50%       26.000000\n",
            "75%       33.000000\n",
            "max       40.000000\n",
            "Name: Amount, dtype: float64\n"
          ]
        }
      ]
    },
    {
      "cell_type": "code",
      "source": [
        "# By plotting the amounts we get an idea of how distributed the data is. We can see that most customers are\n",
        "# spending between 5 and 40 dollars on the app.\n",
        "print(passed_transactions['Amount'].describe())\n",
        "plt.figure(figsize=(9, 8))\n",
        "sns.distplot(passed_transactions['Amount'], color='r', bins=100);"
      ],
      "metadata": {
        "colab": {
          "base_uri": "https://localhost:8080/",
          "height": 653
        },
        "id": "ta2M6DRcVNXv",
        "outputId": "0d72e38a-0fc1-4f7a-9111-3e9ef256f39b"
      },
      "execution_count": null,
      "outputs": [
        {
          "output_type": "stream",
          "name": "stdout",
          "text": [
            "count    804.000000\n",
            "mean      31.835821\n",
            "std       23.248517\n",
            "min        5.000000\n",
            "25%       12.750000\n",
            "50%       29.000000\n",
            "75%       39.000000\n",
            "max      100.000000\n",
            "Name: Amount, dtype: float64\n"
          ]
        },
        {
          "output_type": "display_data",
          "data": {
            "text/plain": [
              "<Figure size 648x576 with 1 Axes>"
            ],
            "image/png": "[encoded data removed]"
          },
          "metadata": {
            "needs_background": "light"
          }
        }
      ]
    },
    {
      "cell_type": "markdown",
      "source": [
        "**Boxplot of the full dataset (without failed transactions)**"
      ],
      "metadata": {
        "id": "luL3vOnx_iyb"
      }
    },
    {
      "cell_type": "code",
      "source": [
        "plt.boxplot(passed_transactions['Amount'])\n",
        "plt.title('Boxplot of the full dataset (without failed transactions)')\n",
        "plt.show()"
      ],
      "metadata": {
        "colab": {
          "base_uri": "https://localhost:8080/",
          "height": 281
        },
        "id": "GMl1C48R_JYv",
        "outputId": "cf4c1340-e810-4727-8b98-0d15d2357354"
      },
      "execution_count": null,
      "outputs": [
        {
          "output_type": "display_data",
          "data": {
            "text/plain": [
              "<Figure size 432x288 with 1 Axes>"
            ],
            "image/png": "[encoded data removed]"
          },
          "metadata": {
            "needs_background": "light"
          }
        }
      ]
    },
    {
      "cell_type": "markdown",
      "source": [
        "**`Boxplot of the low customers dataset (without failed transactions)`**"
      ],
      "metadata": {
        "id": "3NZy3Cn6_3M1"
      }
    },
    {
      "cell_type": "code",
      "source": [
        "plt.boxplot(passed_transactions[passed_transactions['Amount']<=40]['Amount'])\n",
        "plt.title('Boxplot of the low customers dataset (without failed transactions)')\n",
        "plt.show()"
      ],
      "metadata": {
        "colab": {
          "base_uri": "https://localhost:8080/",
          "height": 281
        },
        "id": "dcZeUrgf_85o",
        "outputId": "b48c9652-35b4-4a0d-a8ba-0cce0ae3694c"
      },
      "execution_count": null,
      "outputs": [
        {
          "output_type": "display_data",
          "data": {
            "text/plain": [
              "<Figure size 432x288 with 1 Axes>"
            ],
            "image/png": "[encoded data removed]"
          },
          "metadata": {
            "needs_background": "light"
          }
        }
      ]
    },
    {
      "cell_type": "markdown",
      "source": [
        "**Boxplot of the high customers dataset (without failed transactions)**"
      ],
      "metadata": {
        "id": "LnRUN32wAOoY"
      }
    },
    {
      "cell_type": "code",
      "source": [
        "plt.boxplot(passed_transactions[passed_transactions['Amount']>40]['Amount'])\n",
        "plt.title('Boxplot of the high customers dataset (without failed transactions)')\n",
        "plt.show()"
      ],
      "metadata": {
        "colab": {
          "base_uri": "https://localhost:8080/",
          "height": 281
        },
        "id": "HG9UTHJsAN1K",
        "outputId": "c5d2fd5a-08bf-4f57-eef1-0375c2c20898"
      },
      "execution_count": null,
      "outputs": [
        {
          "output_type": "display_data",
          "data": {
            "text/plain": [
              "<Figure size 432x288 with 1 Axes>"
            ],
            "image/png": "[encoded data removed]"
          },
          "metadata": {
            "needs_background": "light"
          }
        }
      ]
    },
    {
      "cell_type": "code",
      "source": [
        "# We see that the amounts generated by high and low customers are about the same. We could focus on those two\n",
        "# clusters to get a segmentation. Then we can also cut the low customers part between very low customers\n",
        "# that pay between 5 and 20 and a middle low class between 20 and 40.\n",
        "print('Total amounts generated by the',len(passed_transactions[passed_transactions['Amount']<=40]), 'low customers:', passed_transactions[passed_transactions['Amount']<=40]['Amount'].sum())\n",
        "print('Total amounts generated by the ', 1060-len(passed_transactions[passed_transactions['Amount']<=40]), ' high customers:', passed_transactions[passed_transactions['Amount']>(40)]['Amount'].sum())"
      ],
      "metadata": {
        "colab": {
          "base_uri": "https://localhost:8080/"
        },
        "id": "Q71k02Ss3wib",
        "outputId": "dbffba58-b4c9-47d5-d2c1-b9dd4706e8f1"
      },
      "execution_count": null,
      "outputs": [
        {
          "output_type": "stream",
          "name": "stdout",
          "text": [
            "Total amounts generated by the 643 low customers: 14325\n",
            "Total amounts generated by the  417  high customers: 11271\n"
          ]
        }
      ]
    },
    {
      "cell_type": "markdown",
      "source": [
        "# **Failed Transactions**"
      ],
      "metadata": {
        "id": "951pbKzS9DCE"
      }
    },
    {
      "cell_type": "code",
      "source": [
        "# We may observe that in several cases the operation did not operate successfully.\n",
        "failed_transactions = df[df['Success']=='No']\n",
        "failed_transactions"
      ],
      "metadata": {
        "colab": {
          "base_uri": "https://localhost:8080/",
          "height": 423
        },
        "id": "ki5qm6TJ8e_a",
        "outputId": "208020a6-9ee4-4e0c-b4ef-d51d55b09ed7"
      },
      "execution_count": null,
      "outputs": [
        {
          "output_type": "execute_result",
          "data": {
            "text/plain": [
              "           Date  Method  Amount Success\n",
              "18   2022-01-01    Card      30      No\n",
              "19   2022-01-01    Card      74      No\n",
              "20   2022-01-01    Card      32      No\n",
              "21   2022-01-01    Card      89      No\n",
              "26   2022-01-01  Paypal      33      No\n",
              "...         ...     ...     ...     ...\n",
              "1047 2022-01-30    Card      68      No\n",
              "1048 2022-01-30    Card      34      No\n",
              "1049 2022-01-30    Card      27      No\n",
              "1050 2022-01-30    Card      31      No\n",
              "1059 2022-01-30  Paypal      39      No\n",
              "\n",
              "[256 rows x 4 columns]"
            ],
            "text/html": [
              "\n",
              "  <div id=\"df-bb329d68-7119-44ac-a572-ce6d4b875c51\">\n",
              "    <div class=\"colab-df-container\">\n",
              "      <div>\n",
              "<style scoped>\n",
              "    .dataframe tbody tr th:only-of-type {\n",
              "        vertical-align: middle;\n",
              "    }\n",
              "\n",
              "    .dataframe tbody tr th {\n",
              "        vertical-align: top;\n",
              "    }\n",
              "\n",
              "    .dataframe thead th {\n",
              "        text-align: right;\n",
              "    }\n",
              "</style>\n",
              "<table border=\"1\" class=\"dataframe\">\n",
              "  <thead>\n",
              "    <tr style=\"text-align: right;\">\n",
              "      <th></th>\n",
              "      <th>Date</th>\n",
              "      <th>Method</th>\n",
              "      <th>Amount</th>\n",
              "      <th>Success</th>\n",
              "    </tr>\n",
              "  </thead>\n",
              "  <tbody>\n",
              "    <tr>\n",
              "      <th>18</th>\n",
              "      <td>2022-01-01</td>\n",
              "      <td>Card</td>\n",
              "      <td>30</td>\n",
              "      <td>No</td>\n",
              "    </tr>\n",
              "    <tr>\n",
              "      <th>19</th>\n",
              "      <td>2022-01-01</td>\n",
              "      <td>Card</td>\n",
              "      <td>74</td>\n",
              "      <td>No</td>\n",
              "    </tr>\n",
              "    <tr>\n",
              "      <th>20</th>\n",
              "      <td>2022-01-01</td>\n",
              "      <td>Card</td>\n",
              "      <td>32</td>\n",
              "      <td>No</td>\n",
              "    </tr>\n",
              "    <tr>\n",
              "      <th>21</th>\n",
              "      <td>2022-01-01</td>\n",
              "      <td>Card</td>\n",
              "      <td>89</td>\n",
              "      <td>No</td>\n",
              "    </tr>\n",
              "    <tr>\n",
              "      <th>26</th>\n",
              "      <td>2022-01-01</td>\n",
              "      <td>Paypal</td>\n",
              "      <td>33</td>\n",
              "      <td>No</td>\n",
              "    </tr>\n",
              "    <tr>\n",
              "      <th>...</th>\n",
              "      <td>...</td>\n",
              "      <td>...</td>\n",
              "      <td>...</td>\n",
              "      <td>...</td>\n",
              "    </tr>\n",
              "    <tr>\n",
              "      <th>1047</th>\n",
              "      <td>2022-01-30</td>\n",
              "      <td>Card</td>\n",
              "      <td>68</td>\n",
              "      <td>No</td>\n",
              "    </tr>\n",
              "    <tr>\n",
              "      <th>1048</th>\n",
              "      <td>2022-01-30</td>\n",
              "      <td>Card</td>\n",
              "      <td>34</td>\n",
              "      <td>No</td>\n",
              "    </tr>\n",
              "    <tr>\n",
              "      <th>1049</th>\n",
              "      <td>2022-01-30</td>\n",
              "      <td>Card</td>\n",
              "      <td>27</td>\n",
              "      <td>No</td>\n",
              "    </tr>\n",
              "    <tr>\n",
              "      <th>1050</th>\n",
              "      <td>2022-01-30</td>\n",
              "      <td>Card</td>\n",
              "      <td>31</td>\n",
              "      <td>No</td>\n",
              "    </tr>\n",
              "    <tr>\n",
              "      <th>1059</th>\n",
              "      <td>2022-01-30</td>\n",
              "      <td>Paypal</td>\n",
              "      <td>39</td>\n",
              "      <td>No</td>\n",
              "    </tr>\n",
              "  </tbody>\n",
              "</table>\n",
              "<p>256 rows × 4 columns</p>\n",
              "</div>\n",
              "      <button class=\"colab-df-convert\" onclick=\"convertToInteractive('df-bb329d68-7119-44ac-a572-ce6d4b875c51')\"\n",
              "              title=\"Convert this dataframe to an interactive table.\"\n",
              "              style=\"display:none;\">\n",
              "        \n",
              "  <svg xmlns=\"http://www.w3.org/2000/svg\" height=\"24px\"viewBox=\"0 0 24 24\"\n",
              "       width=\"24px\">\n",
              "    <path d=\"M0 0h24v24H0V0z\" fill=\"none\"/>\n",
              "    <path d=\"M18.56 5.44l.94 2.06.94-2.06 2.06-.94-2.06-.94-.94-2.06-.94 2.06-2.06.94zm-11 1L8.5 8.5l.94-2.06 2.06-.94-2.06-.94L8.5 2.5l-.94 2.06-2.06.94zm10 10l.94 2.06.94-2.06 2.06-.94-2.06-.94-.94-2.06-.94 2.06-2.06.94z\"/><path d=\"M17.41 7.96l-1.37-1.37c-.4-.4-.92-.59-1.43-.59-.52 0-1.04.2-1.43.59L10.3 9.45l-7.72 7.72c-.78.78-.78 2.05 0 2.83L4 21.41c.39.39.9.59 1.41.59.51 0 1.02-.2 1.41-.59l7.78-7.78 2.81-2.81c.8-.78.8-2.07 0-2.86zM5.41 20L4 18.59l7.72-7.72 1.47 1.35L5.41 20z\"/>\n",
              "  </svg>\n",
              "      </button>\n",
              "      \n",
              "  <style>\n",
              "    .colab-df-container {\n",
              "      display:flex;\n",
              "      flex-wrap:wrap;\n",
              "      gap: 12px;\n",
              "    }\n",
              "\n",
              "    .colab-df-convert {\n",
              "      background-color: #E8F0FE;\n",
              "      border: none;\n",
              "      border-radius: 50%;\n",
              "      cursor: pointer;\n",
              "      display: none;\n",
              "      fill: #1967D2;\n",
              "      height: 32px;\n",
              "      padding: 0 0 0 0;\n",
              "      width: 32px;\n",
              "    }\n",
              "\n",
              "    .colab-df-convert:hover {\n",
              "      background-color: #E2EBFA;\n",
              "      box-shadow: 0px 1px 2px rgba(60, 64, 67, 0.3), 0px 1px 3px 1px rgba(60, 64, 67, 0.15);\n",
              "      fill: #174EA6;\n",
              "    }\n",
              "\n",
              "    [theme=dark] .colab-df-convert {\n",
              "      background-color: #3B4455;\n",
              "      fill: #D2E3FC;\n",
              "    }\n",
              "\n",
              "    [theme=dark] .colab-df-convert:hover {\n",
              "      background-color: #434B5C;\n",
              "      box-shadow: 0px 1px 3px 1px rgba(0, 0, 0, 0.15);\n",
              "      filter: drop-shadow(0px 1px 2px rgba(0, 0, 0, 0.3));\n",
              "      fill: #FFFFFF;\n",
              "    }\n",
              "  </style>\n",
              "\n",
              "      <script>\n",
              "        const buttonEl =\n",
              "          document.querySelector('#df-bb329d68-7119-44ac-a572-ce6d4b875c51 button.colab-df-convert');\n",
              "        buttonEl.style.display =\n",
              "          google.colab.kernel.accessAllowed ? 'block' : 'none';\n",
              "\n",
              "        async function convertToInteractive(key) {\n",
              "          const element = document.querySelector('#df-bb329d68-7119-44ac-a572-ce6d4b875c51');\n",
              "          const dataTable =\n",
              "            await google.colab.kernel.invokeFunction('convertToInteractive',\n",
              "                                                     [key], {});\n",
              "          if (!dataTable) return;\n",
              "\n",
              "          const docLinkHtml = 'Like what you see? Visit the ' +\n",
              "            '<a target=\"_blank\" href=https://colab.research.google.com/notebooks/data_table.ipynb>data table notebook</a>'\n",
              "            + ' to learn more about interactive tables.';\n",
              "          element.innerHTML = '';\n",
              "          dataTable['output_type'] = 'display_data';\n",
              "          await google.colab.output.renderOutput(dataTable, element);\n",
              "          const docLink = document.createElement('div');\n",
              "          docLink.innerHTML = docLinkHtml;\n",
              "          element.appendChild(docLink);\n",
              "        }\n",
              "      </script>\n",
              "    </div>\n",
              "  </div>\n",
              "  "
            ]
          },
          "metadata": {},
          "execution_count": 273
        }
      ]
    },
    {
      "cell_type": "code",
      "source": [
        "# Statistical description of the failed transactions.\n",
        "print('Statistical description of the failed transactions')\n",
        "print(failed_transactions['Amount'].describe())"
      ],
      "metadata": {
        "colab": {
          "base_uri": "https://localhost:8080/"
        },
        "id": "MOTzpYWM9UmT",
        "outputId": "a065961e-2e4e-4418-c891-07f8c2b8dfd6"
      },
      "execution_count": null,
      "outputs": [
        {
          "output_type": "stream",
          "name": "stdout",
          "text": [
            "Statistical description of the failed transactions\n",
            "count    256.000000\n",
            "mean      40.449219\n",
            "std       26.935168\n",
            "min        5.000000\n",
            "25%       22.000000\n",
            "50%       35.000000\n",
            "75%       58.500000\n",
            "max      100.000000\n",
            "Name: Amount, dtype: float64\n"
          ]
        }
      ]
    },
    {
      "cell_type": "code",
      "source": [
        "print('Amount not gained by Blitz over those failed transactions:', failed_transactions['Amount'].sum())\n",
        "print('This represents',100 *(failed_transactions['Amount'].sum()/df['Amount'].sum()), '% of the initial total gain')"
      ],
      "metadata": {
        "colab": {
          "base_uri": "https://localhost:8080/"
        },
        "id": "nTP1LI5MbG5L",
        "outputId": "d04196d9-5256-4ae6-9889-b0514338c5ab"
      },
      "execution_count": null,
      "outputs": [
        {
          "output_type": "stream",
          "name": "stdout",
          "text": [
            "Amount not gained by Blitz over those failed transactions: 10355\n",
            "This represents 28.803093098940224 % of the initial total gain\n"
          ]
        }
      ]
    },
    {
      "cell_type": "code",
      "source": [
        "# Statistical description of the dataset without failed transactions.\n",
        "print('Statistical description without failed transactions')\n",
        "print(passed_transactions['Amount'].describe())\n",
        "print('Total gained by Blitz without the failed transactions:', passed_transactions['Amount'].sum())"
      ],
      "metadata": {
        "colab": {
          "base_uri": "https://localhost:8080/"
        },
        "id": "NtoMNEraBGpD",
        "outputId": "b67a1d69-9120-471a-99b6-83604644cb16"
      },
      "execution_count": null,
      "outputs": [
        {
          "output_type": "stream",
          "name": "stdout",
          "text": [
            "Statistical description without failed transactions\n",
            "count    804.000000\n",
            "mean      31.835821\n",
            "std       23.248517\n",
            "min        5.000000\n",
            "25%       12.750000\n",
            "50%       29.000000\n",
            "75%       39.000000\n",
            "max      100.000000\n",
            "Name: Amount, dtype: float64\n",
            "Total gained by Blitz without the failed transactions: 25596\n"
          ]
        }
      ]
    },
    {
      "cell_type": "code",
      "source": [
        "# Differences between fraud and normal customers way of payments.\n",
        "print('Passed Transactions Methods of Payments\\n')\n",
        "print(passed_transactions['Method'].value_counts()) # The different Methods of Payments Used for normal customers."
      ],
      "metadata": {
        "colab": {
          "base_uri": "https://localhost:8080/"
        },
        "id": "nU4-vXhZMSnM",
        "outputId": "171f55a3-ed7f-433d-9876-f8f544da30e8"
      },
      "execution_count": null,
      "outputs": [
        {
          "output_type": "stream",
          "name": "stdout",
          "text": [
            "Passed Transactions Methods of Payments\n",
            "\n",
            "Paypal      297\n",
            "ApplePay    277\n",
            "Card        230\n",
            "Name: Method, dtype: int64\n"
          ]
        }
      ]
    },
    {
      "cell_type": "markdown",
      "source": [
        "**Passed Transactions Methods of Payments Pie Plot**"
      ],
      "metadata": {
        "id": "KaZjYW_GgGYU"
      }
    },
    {
      "cell_type": "code",
      "source": [
        "# Passed Transactions Methods of Payments Pie Plot.\n",
        "counts = passed_transactions['Method'].value_counts() # Various Methods of Payments.\n",
        "methods = 'Paypal', 'Card', 'ApplePay'\n",
        "sizes = [counts[0], counts[2], counts[1]]\n",
        "colors = ['yellowgreen', 'gold', 'lightskyblue']\n",
        "explode = (0, 0, 0)\n",
        "\n",
        "plt.pie(sizes, explode=explode, labels=methods, colors=colors, autopct='%1.1f%%', shadow=True, startangle=90)\n",
        "plt.axis('equal')\n",
        "plt.title('Passed Transactions Methods of Payments Pie Plot')\n",
        "plt.show()"
      ],
      "metadata": {
        "colab": {
          "base_uri": "https://localhost:8080/",
          "height": 268
        },
        "id": "J8YsrfFma_jx",
        "outputId": "21afe669-dede-4b15-e520-03ee3098f6d1"
      },
      "execution_count": null,
      "outputs": [
        {
          "output_type": "display_data",
          "data": {
            "text/plain": [
              "<Figure size 432x288 with 1 Axes>"
            ],
            "image/png": "[encoded data removed]"
          },
          "metadata": {}
        }
      ]
    },
    {
      "cell_type": "markdown",
      "source": [
        "As said before, we see that cutting the failed transactions give us a pie plot way less uniform between the 3 classes that we saw before with the full dataset. Successful transactions mostly occure on PayPal and ApplePay. Cards seem to be a more sensible case of payment, with maybe less security or less public access unlike PayPal and ApplePay (considering that having a card requires a bank account and a bit of money to put on this account which are quite constraining for young people for example). In all cases we are going to see in the following that most failed transactions occure using cards."
      ],
      "metadata": {
        "id": "PZp4OZaFZBmx"
      }
    },
    {
      "cell_type": "code",
      "source": [
        "print('Failed Transactions Methods of Payments\\n')\n",
        "print(failed_transactions['Method'].value_counts()) # The different Methods of Payments Used in Frauds."
      ],
      "metadata": {
        "colab": {
          "base_uri": "https://localhost:8080/"
        },
        "id": "ke0FtSpGcNwn",
        "outputId": "938adc7b-792f-4b33-e4fa-0b6af1f6e852"
      },
      "execution_count": null,
      "outputs": [
        {
          "output_type": "stream",
          "name": "stdout",
          "text": [
            "Failed Transactions Methods of Payments\n",
            "\n",
            "Card        123\n",
            "Paypal       70\n",
            "ApplePay     63\n",
            "Name: Method, dtype: int64\n"
          ]
        }
      ]
    },
    {
      "cell_type": "markdown",
      "source": [
        "**Failed Transactions Methods of Payments Pie Plot**"
      ],
      "metadata": {
        "id": "I6tb4TTlgNl5"
      }
    },
    {
      "cell_type": "code",
      "source": [
        "# Failed Transactions Methods of Payments Pie Plot.\n",
        "counts = failed_transactions['Method'].value_counts() # Various Methods of Payments.\n",
        "methods = 'Paypal', 'Card', 'ApplePay'\n",
        "sizes = [counts[1], counts[0], counts[2]]\n",
        "colors = ['yellowgreen', 'gold', 'lightskyblue']\n",
        "explode = (0, 0, 0)\n",
        "\n",
        "plt.pie(sizes, explode=explode, labels=methods, colors=colors, autopct='%1.1f%%', shadow=True, startangle=90)\n",
        "plt.axis('equal')\n",
        "plt.title('Failed Transactions Methods of Payments Pie Plot')\n",
        "plt.show()"
      ],
      "metadata": {
        "colab": {
          "base_uri": "https://localhost:8080/",
          "height": 267
        },
        "id": "Rs4tGjW4cPpo",
        "outputId": "1c56883b-cc00-4fe7-d325-447aa3f98a82"
      },
      "execution_count": null,
      "outputs": [
        {
          "output_type": "display_data",
          "data": {
            "text/plain": [
              "<Figure size 432x288 with 1 Axes>"
            ],
            "image/png": "[encoded data removed]"
          },
          "metadata": {}
        }
      ]
    },
    {
      "cell_type": "markdown",
      "source": [
        "There are in total 256 out of 1060 transactions that did not occure making a loss of 29% of the profit. This is considerable and illustrates how important of an issue fraud has become over online websites/applications. In the fraud cases, we have a higher mean for the amount of transactions at 40.5 instead of 31.8 in the normal customers. In the fraud cases our quantiles at 25%; 50%; 75% are respectively 22; 35; 58 against our normal dataset at 12.75; 29; 39. It seems that fraud involves generally more money than normal transactions.\n",
        "\n",
        "Comparing the methods of transactions we can also see that instead of having relatively equitable proportion of payments between Card/Paypal/ApplePay as in the passed transactions (resp. 230/297/277), failed transactions mostly use the card as method of payment (resp. 120/70/63). Implementing new protections for card payment could seem useful here. A problem in the detection of fraud for Paypal and ApplePay are also possible as we could possibly only detect card fraud which would also explain a majority of card fraud in our dataset ."
      ],
      "metadata": {
        "id": "VosqZJ089wfz"
      }
    },
    {
      "cell_type": "markdown",
      "source": [
        "**Plots of the failed transactions**"
      ],
      "metadata": {
        "id": "se9nSmYDQ0Sw"
      }
    },
    {
      "cell_type": "code",
      "source": [
        "# Probabilty Distribution of The Amounts Involved In Failed Transactions.\n",
        "print(failed_transactions['Amount'].describe())\n",
        "plt.figure(figsize=(9, 8))\n",
        "sns.distplot(failed_transactions['Amount'], color='r', bins=100);"
      ],
      "metadata": {
        "colab": {
          "base_uri": "https://localhost:8080/",
          "height": 653
        },
        "id": "nRQPeCxzQ5OC",
        "outputId": "21c8395c-eac6-4340-d0bd-280410ef40a6"
      },
      "execution_count": null,
      "outputs": [
        {
          "output_type": "stream",
          "name": "stdout",
          "text": [
            "count    256.000000\n",
            "mean      40.449219\n",
            "std       26.935168\n",
            "min        5.000000\n",
            "25%       22.000000\n",
            "50%       35.000000\n",
            "75%       58.500000\n",
            "max      100.000000\n",
            "Name: Amount, dtype: float64\n"
          ]
        },
        {
          "output_type": "display_data",
          "data": {
            "text/plain": [
              "<Figure size 648x576 with 1 Axes>"
            ],
            "image/png": "[encoded data removed]"
          },
          "metadata": {
            "needs_background": "light"
          }
        }
      ]
    },
    {
      "cell_type": "code",
      "source": [
        "# Boxplot of the failed transactions.\n",
        "plt.boxplot(failed_transactions['Amount'])\n",
        "plt.show()"
      ],
      "metadata": {
        "colab": {
          "base_uri": "https://localhost:8080/",
          "height": 265
        },
        "id": "aAhdlixuQ5hv",
        "outputId": "180f2eb9-0800-49ca-9856-4f6f84967dcf"
      },
      "execution_count": null,
      "outputs": [
        {
          "output_type": "display_data",
          "data": {
            "text/plain": [
              "<Figure size 432x288 with 1 Axes>"
            ],
            "image/png": "[encoded data removed]"
          },
          "metadata": {
            "needs_background": "light"
          }
        }
      ]
    },
    {
      "cell_type": "markdown",
      "source": [
        "# **Purchases through time**"
      ],
      "metadata": {
        "id": "ks84FXMM6qUl"
      }
    },
    {
      "cell_type": "code",
      "source": [
        "# We can see how many transactions occured each day. By ordering it we may try to learn\n",
        "# the patterns of cunsomption or if a campaign of engagement worked for the company by bringing new customers.\n",
        "df['Date'].value_counts()"
      ],
      "metadata": {
        "colab": {
          "base_uri": "https://localhost:8080/"
        },
        "id": "38CIPWVMg120",
        "outputId": "d9104cf9-a76e-4628-9d9c-e368430c516e"
      },
      "execution_count": null,
      "outputs": [
        {
          "output_type": "execute_result",
          "data": {
            "text/plain": [
              "2022-01-03    46\n",
              "2022-01-04    46\n",
              "2022-01-07    45\n",
              "2022-01-14    44\n",
              "2022-01-11    43\n",
              "2022-01-19    42\n",
              "2022-01-25    41\n",
              "2022-01-23    40\n",
              "2022-01-08    37\n",
              "2022-01-29    37\n",
              "2022-01-05    36\n",
              "2022-01-12    36\n",
              "2022-01-18    35\n",
              "2022-01-26    35\n",
              "2022-01-27    35\n",
              "2022-01-10    34\n",
              "2022-01-15    33\n",
              "2022-01-20    33\n",
              "2022-01-28    33\n",
              "2022-01-09    33\n",
              "2022-01-24    33\n",
              "2022-01-06    33\n",
              "2022-01-02    32\n",
              "2022-01-17    32\n",
              "2022-01-16    32\n",
              "2022-01-13    30\n",
              "2022-01-01    28\n",
              "2022-01-30    27\n",
              "2022-01-22    26\n",
              "2022-01-21    23\n",
              "Name: Date, dtype: int64"
            ]
          },
          "metadata": {},
          "execution_count": 283
        }
      ]
    },
    {
      "cell_type": "code",
      "source": [
        "# Monthly Plot of the transactions. We could try to look over the weeks to search for consistent patterns\n",
        "# through time.\n",
        "plt.plot(passed_transactions['Date'],passed_transactions['Amount'],marker=\"o\")\n",
        "plt.xlabel(\"Date\")\n",
        "plt.ylabel(\"Amount paid by the customers each day\")\n",
        "plt.title(\"Repartition of the customers through time and what they paid for the 804 passed transactions\")\n",
        "plt.show()"
      ],
      "metadata": {
        "colab": {
          "base_uri": "https://localhost:8080/",
          "height": 295
        },
        "id": "2E9hFKesfA_g",
        "outputId": "0265c69c-c814-43bc-921b-7f1f2c9ac461"
      },
      "execution_count": null,
      "outputs": [
        {
          "output_type": "display_data",
          "data": {
            "text/plain": [
              "<Figure size 432x288 with 1 Axes>"
            ],
            "image/png": "[encoded data removed]"
          },
          "metadata": {
            "needs_background": "light"
          }
        }
      ]
    },
    {
      "cell_type": "code",
      "source": [
        "# Monthly Plot of the failed transactions. We could try to look over the weeks to search for consistent \n",
        "# patterns through time.\n",
        "plt.plot(failed_transactions['Date'],failed_transactions['Amount'],marker=\"o\")\n",
        "plt.xlabel(\"Date\")\n",
        "plt.ylabel(\"Amount paid by the customers each day\")\n",
        "plt.title(\"Repartition of the customers through time and what they would have paid for the 256 failed transactions\")\n",
        "plt.show()"
      ],
      "metadata": {
        "colab": {
          "base_uri": "https://localhost:8080/",
          "height": 295
        },
        "id": "g26Y6WxQdQuS",
        "outputId": "3aeca0d5-0e17-4b0d-db94-bdc440599ea7"
      },
      "execution_count": null,
      "outputs": [
        {
          "output_type": "display_data",
          "data": {
            "text/plain": [
              "<Figure size 432x288 with 1 Axes>"
            ],
            "image/png": "[encoded data removed]"
          },
          "metadata": {
            "needs_background": "light"
          }
        }
      ]
    },
    {
      "cell_type": "markdown",
      "source": [
        "**Question 1: Fraud - Duplicate accounts**\n",
        "\n",
        "Some users have multiple accounts within the Blitz App, even though our Terms & Conditions \n",
        "prohibit such behavior.\n",
        "- What risks do you identify with these duplicate accounts?\n",
        "- Describe a process allowing you to reduce the number of duplicate accounts within \n",
        "the App"
      ],
      "metadata": {
        "id": "VB2L6g82z0up"
      }
    },
    {
      "cell_type": "markdown",
      "source": [
        "Several reasons and risks lead us to try to prevent duplicate accounts. Indeed:\n",
        "\n",
        "* **Wasting Money On Duplicate Announces/Catalogues** to send to the players. That would lead to avoid investing in marketing for clients who are not present and we would have to clean the data aftwerward.\n",
        "* **Absence Of Customer Supervision**: 2 records the same id makes it hard to understand the clients and their behaviors. For deals and advertisements it is tough to assess which promoting action has worked and at what phase of the deals the client is, assuming that similar clients are in the database.\n",
        "* **Bad Consequences On Blitz' Reputation**:\n",
        "By maintaining a great quality of data for players we are insuring that the perception of the brand and their actions are good for their community. In that sense we need to avoid sending too much mails, and calls to the same customer. The business must not seem disorganised to prospects and clients.\n",
        "* **Wasted Effort On Marketing**:\n",
        "Indeed sending too much mails to the same person may lead to disturb them enough for them not to read any of the marketing emails and even put them in 'spam'. Before segmenting the clients rightfully for marketing we need to understand them and at which step of the buying process they are to at the same time: get the most sells we can and keep the client on long term.\n",
        "* **Wrong Reports And Wrongly Informed Decisions**:\n",
        "To make forecasts and future decisions for the growth of Blitz we need to have a data as accurate as possible to reflect the reality and not be contaminated by bots/faults in the dataset.\n",
        "* **Dubious Customer' Services**:\n",
        "Inaccurate data influences every client from the conversations clients/business team to the marketing plan. For the customer, he will lose time searching between several records before accessing to his personnal file. It would be disappointing and annoying for them to lose time and therefore they could leave the company and thus we could lose huge potential revenue gains.\n",
        "\n"
      ],
      "metadata": {
        "id": "B2b9XVEez689"
      }
    },
    {
      "cell_type": "markdown",
      "source": [
        "Several processes would allow us to reduce the number of duplicates account within the app:\n",
        "\n",
        "\n",
        "* First we must set our **matching rules** to spot the **duplicated records**. Either we scan records to spot fields that exactly match or we allow variances in the data for example: William Smith/ Will Smith/ Will Smyth. For each fields (Names, Mails Adresses, etc), we can choose different matching techniques: either exact or fuzzy matching (with variances).\n",
        "* We could set a **rule for duplication** to fix what happens when several records match. Then we either ask the user to review the different profiles and update his record accordingly to become unique or we prevent this step by blocking the customer when he registers from creating the duplicate record.\n",
        "* **Requiring facebook login** might be one of the easier and most effective ways to ensure single individuals are not creating multiple accounts.\n",
        "* We can add a **SMS verification** code during signup.\n",
        "* Set a **tracking cookie** (i.e. random hash) and log its value on login, look for multiple logins from the same cookie value.\n",
        "* Logins from **same IP address/user-agent** combination.\n",
        "* Logins from **same IP address only** (less reliable than the previous two bullets).\n",
        "* Accounts with **email addresses** from free webmail services. (Gmail etc.)\n",
        "* Accounts with **same passwords**.\n",
        "\n",
        "\n"
      ],
      "metadata": {
        "id": "kB4Wsd75FU86"
      }
    },
    {
      "cell_type": "markdown",
      "source": [
        "**Question 2: Payments - Deposit analytics**\n",
        "\n",
        "Currently, Blitz users can deposit cash within the application thanks to multiple payment methods: \n",
        "ApplePay, credit cards, and Paypal.\n",
        "- Which metrics would you analyze if your goal were to drive up user deposits?\n",
        "- According to the CSV file, what would be your recommendations to strengthen the \n",
        "deposits"
      ],
      "metadata": {
        "id": "lgzKdJvwATn_"
      }
    },
    {
      "cell_type": "markdown",
      "source": [
        "We want the users to be active on the app in order to perform many transactions. We determine a user’s value by his level of engagement and if they come again and keeps fidelity to the app.\n",
        "To drive up user deposits several metrics exist: \n",
        "\n",
        "* **The activation of a customer**: The activation of a customer represents how active our user is by fulfilling registrations, purchasing on the app, watching advertisements, or making two deposits within a specific time period. \n",
        "By looking at new users' growth we can observe if we are gaining activation through time and if our plans are working. Promo codes and referral codes can be used to earn new bonus cash, which can be used to win more real cash. It can become an indicator for us as it would mean that the application would gain visibilty.\n",
        "\n",
        "* **The reach**: The reach represents the total number of people that used the product recently. It determines the amount of users that may become active through campaigns made by the company for customers' engagement.\n",
        "It can be the number of paid accounts, or users who have made at least one purchase in the last months. \n",
        "\n",
        "* **Active Users**: Defined as the users that either received value from the product or took activation actions recently. The value received here represents a set of actions. Here the value would be the amount spent by the customers, how engage they are, our retention rate... \n",
        "\n",
        "* **Engagement of the customers**: We want to be able to measure how frequent and fast the customers' actions take place. The faster the better. Engagement may be defined here as the number of actions taken by the users, how long they watched advertisements or the number/amounts of the transactions they went through. Comparing engagement and activeness of users for example (engagement / activeness of a user) gives us a measure of the depth of engagement per user.\n",
        "\n",
        "\n",
        "* **Retention**\n",
        "This metric will show if our product is sticky and is used for a long time. The retention rate is used in marketing reffering to the proportion of customers who stayed customed over a time period. It looks like a fidelity rate as it measures the fidelity of a customers. For retention goals, we choose a time period that is long enough to capture the various cycles of the customers, but short enough for our teams to get feedback to start new operations quickly. For example: 2 weeks retention experiments every time for a 90-day full retention test. \n",
        "\n"
      ],
      "metadata": {
        "id": "E2Oe8dpokb_E"
      }
    },
    {
      "cell_type": "markdown",
      "source": [
        "According to the CSV file, to strengthen the deposits we could: \n",
        "\n",
        "\n",
        "* **Segment** our customers between various prices (low and high customers in our exploratory study) and try to offer them special offers with their ranges of payments to get as many customers as we could to purchase on the application. As seen in question 2.a, we also need to work on retention, engagement, activeness of the users and work as a company to have a high reach on the  customers.\n",
        "* **Implement security by understanding the fraudulous and failed transactions** to prevent them. Either by implementing many preventive protections as seen in question 1 on duplicate accounts to get a more robust system to fraudulous transactions.\n",
        "* **Check For Time (daily/weekly/monthly) Patterns for Consumptions** to understand the customers' habits and bring new games/settings/updates accordingly to maximize Blitz' profits.\n",
        "* **Add Features To Modelize The Frauds**: If frauds follow certain patterns, adding features (e.g: number of previous transactions, amounts involved previously, activity of the user, security ranking based on the community/players ratings...) may allow us to understand the similarities and differences between fraud cases and normal customers. Indeed for example in the preliminary analysis we have seen a predominancy of high amounts (higher mean and quantiles) involved in the fraudulous cases compared to normal cases.\n",
        "* **Work constantly on new securities**: As shown in the analysis, failed transactions still represent 30% of the total amounts of transactions of Blitz in January 2022 even though systems are already in place to work against them. Fraud is constantly evolving and in response security and answers must constantly evolve to take into account more and more different types of frauds.\n",
        "* **Focus on precise methods of payments**: As shown on the study of failed transactions, the card method of payment seemed way more used than what normal customers would use. Either it is easier to fraud using cards (maybe because of the various securities added by Paypal/ApplePay) or we still do not detect the frauds using the other methods of payment (ApplePay/Paypal) as good as the cards. In either way a more complex analysis should be led revolving around those ideas.\n",
        "\n"
      ],
      "metadata": {
        "id": "Hk-ruDuetLwR"
      }
    }
  ]
}